{
 "cells": [
  {
   "cell_type": "code",
   "execution_count": 2,
   "id": "b08483d0",
   "metadata": {},
   "outputs": [],
   "source": [
    "# Tyes of error - compile time err, logical errors, run time errors"
   ]
  },
  {
   "cell_type": "code",
   "execution_count": 3,
   "id": "91273f7d",
   "metadata": {},
   "outputs": [
    {
     "ename": "ZeroDivisionError",
     "evalue": "division by zero",
     "output_type": "error",
     "traceback": [
      "\u001b[1;31m---------------------------------------------------------------------------\u001b[0m",
      "\u001b[1;31mZeroDivisionError\u001b[0m                         Traceback (most recent call last)",
      "Cell \u001b[1;32mIn[3], line 3\u001b[0m\n\u001b[0;32m      1\u001b[0m a\u001b[38;5;241m=\u001b[39m\u001b[38;5;241m10\u001b[39m\n\u001b[0;32m      2\u001b[0m b\u001b[38;5;241m=\u001b[39m\u001b[38;5;241m0\u001b[39m\n\u001b[1;32m----> 3\u001b[0m c\u001b[38;5;241m=\u001b[39ma\u001b[38;5;241m/\u001b[39mb\n\u001b[0;32m      4\u001b[0m \u001b[38;5;28mprint\u001b[39m(\u001b[38;5;124m\"\u001b[39m\u001b[38;5;124ma/b= \u001b[39m\u001b[38;5;132;01m%d\u001b[39;00m\u001b[38;5;124m\"\u001b[39m \u001b[38;5;241m%\u001b[39mc)\n",
      "\u001b[1;31mZeroDivisionError\u001b[0m: division by zero"
     ]
    }
   ],
   "source": [
    "a=10\n",
    "b=0\n",
    "c=a/b\n",
    "print(\"a/b= %d\" %c)"
   ]
  },
  {
   "cell_type": "code",
   "execution_count": 4,
   "id": "ace0229a",
   "metadata": {},
   "outputs": [
    {
     "name": "stdout",
     "output_type": "stream",
     "text": [
      "Enter a:10\n",
      "Enter b:0\n",
      "Can't divide with zero\n"
     ]
    }
   ],
   "source": [
    "try:\n",
    "    a=int(input(\"Enter a:\"))\n",
    "    b=int(input(\"Enter b:\"))\n",
    "    c=a/b\n",
    "except:\n",
    "    print(\"Can't divide with zero\")"
   ]
  },
  {
   "cell_type": "code",
   "execution_count": 5,
   "id": "d1dd2a81",
   "metadata": {},
   "outputs": [
    {
     "name": "stdout",
     "output_type": "stream",
     "text": [
      "Enter a:100\n",
      "Enter b:0\n",
      "Don't divide with zero\n",
      "Finished\n"
     ]
    }
   ],
   "source": [
    "try:\n",
    "    a=int(input(\"Enter a:\"))\n",
    "    b=int(input(\"Enter b:\"))\n",
    "    c=a/b\n",
    "    print(c)\n",
    "except ZeroDivisionError:\n",
    "    print(\"Don't divide with zero\")\n",
    "    \n",
    "print(\"Finished\")\n",
    "    "
   ]
  },
  {
   "cell_type": "code",
   "execution_count": 6,
   "id": "94e424e4",
   "metadata": {},
   "outputs": [
    {
     "name": "stdout",
     "output_type": "stream",
     "text": [
      "Enter a:100\n",
      "Enter b:10\n",
      "10.0\n",
      "Finished\n"
     ]
    }
   ],
   "source": [
    "try:\n",
    "    a=int(input(\"Enter a:\"))\n",
    "    b=int(input(\"Enter b:\"))\n",
    "    c=a/b\n",
    "    print(c)\n",
    "except ZeroDivisionError:\n",
    "    print(\"Don't divide with zero\")\n",
    "    \n",
    "print(\"Finished\")\n",
    "    "
   ]
  },
  {
   "cell_type": "code",
   "execution_count": 7,
   "id": "9ef0ca15",
   "metadata": {},
   "outputs": [
    {
     "name": "stdout",
     "output_type": "stream",
     "text": [
      "Enter a:10\n",
      "Enter b:0\n",
      "Don't divide with zero\n",
      "<class 'ZeroDivisionError'>\n",
      "Finished\n"
     ]
    }
   ],
   "source": [
    "try:\n",
    "    a=int(input(\"Enter a:\"))\n",
    "    b=int(input(\"Enter b:\"))\n",
    "    c=a/b\n",
    "    print(c)\n",
    "except ZeroDivisionError:\n",
    "    print(\"Don't divide with zero\")\n",
    "    print(ZeroDivisionError)\n",
    "else:\n",
    "    print(\"Yipee!\")\n",
    "print(\"Finished\")\n",
    "    "
   ]
  },
  {
   "cell_type": "code",
   "execution_count": 8,
   "id": "3b32c93e",
   "metadata": {},
   "outputs": [
    {
     "name": "stdout",
     "output_type": "stream",
     "text": [
      "Enter a:10\n",
      "Enter b:5\n",
      "2.0\n",
      "Yipee!\n",
      "Finished\n"
     ]
    }
   ],
   "source": [
    "try:\n",
    "    a=int(input(\"Enter a:\"))\n",
    "    b=int(input(\"Enter b:\"))\n",
    "    c=a/b\n",
    "    print(c)\n",
    "except ZeroDivisionError:\n",
    "    print(\"Don't divide with zero\")\n",
    "    print(ZeroDivisionError)\n",
    "else:\n",
    "    print(\"Yipee!\")\n",
    "print(\"Finished\")\n",
    "    "
   ]
  },
  {
   "cell_type": "code",
   "execution_count": 13,
   "id": "3746ec76",
   "metadata": {},
   "outputs": [
    {
     "name": "stdout",
     "output_type": "stream",
     "text": [
      "Enter a:15\n",
      "Enter b:0\n",
      "Don't divide with zero , division by zero\n",
      "Finished\n"
     ]
    }
   ],
   "source": [
    "try:\n",
    "    a=int(input(\"Enter a:\"))\n",
    "    b=int(input(\"Enter b:\"))\n",
    "    c=a/b\n",
    "    print(c)\n",
    "except Exception as a:\n",
    "    print(\"Don't divide with zero\",',',a)\n",
    "    \n",
    "else:\n",
    "    print(\"Yipee!\")\n",
    "print(\"Finished\")\n",
    "    "
   ]
  },
  {
   "cell_type": "code",
   "execution_count": 15,
   "id": "37405ea2",
   "metadata": {},
   "outputs": [
    {
     "name": "stdout",
     "output_type": "stream",
     "text": [
      "Enter a:16\n",
      "Enter b:f\n",
      "Don't divide with zero , invalid literal for int() with base 10: 'f'\n",
      "Finished\n"
     ]
    }
   ],
   "source": [
    "try:\n",
    "    a=int(input(\"Enter a:\"))\n",
    "    b=int(input(\"Enter b:\"))\n",
    "    c=a/b\n",
    "    print(c)\n",
    "except Exception as a:\n",
    "    print(\"Don't divide with zero\",',',a)\n",
    "\n",
    "except NameError as b:\n",
    "    print(\"Wrong Input\",',',b)\n",
    "else:\n",
    "    print(\"Yipee!\")\n",
    "print(\"Finished\")\n",
    "    "
   ]
  },
  {
   "cell_type": "code",
   "execution_count": 16,
   "id": "d1396a4f",
   "metadata": {},
   "outputs": [
    {
     "name": "stdout",
     "output_type": "stream",
     "text": [
      "Enter a:14\n",
      "Enter b:2\n",
      "Don't divide with zero , name 'z' is not defined\n",
      "Finished\n"
     ]
    }
   ],
   "source": [
    "try:\n",
    "    a=int(input(\"Enter a:\"))\n",
    "    b=int(input(\"Enter b:\"))\n",
    "    c=a/z\n",
    "    print(c)\n",
    "except Exception as a:\n",
    "    print(\"Don't divide with zero\",',',a)\n",
    "\n",
    "except NameError as b:\n",
    "    print(\"Wrong Input\",',',b)\n",
    "else:\n",
    "    print(\"Yipee!\")\n",
    "print(\"Finished\")\n",
    "    "
   ]
  },
  {
   "cell_type": "code",
   "execution_count": 17,
   "id": "917276c9",
   "metadata": {},
   "outputs": [
    {
     "ename": "Exception",
     "evalue": "Sorry!, no numbers below",
     "output_type": "error",
     "traceback": [
      "\u001b[1;31m---------------------------------------------------------------------------\u001b[0m",
      "\u001b[1;31mException\u001b[0m                                 Traceback (most recent call last)",
      "Cell \u001b[1;32mIn[17], line 4\u001b[0m\n\u001b[0;32m      1\u001b[0m x\u001b[38;5;241m=\u001b[39m\u001b[38;5;241m-\u001b[39m\u001b[38;5;241m12\u001b[39m\n\u001b[0;32m      3\u001b[0m \u001b[38;5;28;01mif\u001b[39;00m x\u001b[38;5;241m<\u001b[39m\u001b[38;5;241m0\u001b[39m:\n\u001b[1;32m----> 4\u001b[0m     \u001b[38;5;28;01mraise\u001b[39;00m \u001b[38;5;167;01mException\u001b[39;00m(\u001b[38;5;124m\"\u001b[39m\u001b[38;5;124mSorry!, no numbers below\u001b[39m\u001b[38;5;124m\"\u001b[39m)\n",
      "\u001b[1;31mException\u001b[0m: Sorry!, no numbers below"
     ]
    }
   ],
   "source": [
    "x=-12\n",
    "\n",
    "if x<0:\n",
    "    raise Exception(\"Sorry!, no numbers below\")"
   ]
  },
  {
   "cell_type": "code",
   "execution_count": null,
   "id": "0d87de3d",
   "metadata": {},
   "outputs": [],
   "source": []
  }
 ],
 "metadata": {
  "kernelspec": {
   "display_name": "Python 3 (ipykernel)",
   "language": "python",
   "name": "python3"
  },
  "language_info": {
   "codemirror_mode": {
    "name": "ipython",
    "version": 3
   },
   "file_extension": ".py",
   "mimetype": "text/x-python",
   "name": "python",
   "nbconvert_exporter": "python",
   "pygments_lexer": "ipython3",
   "version": "3.11.5"
  }
 },
 "nbformat": 4,
 "nbformat_minor": 5
}

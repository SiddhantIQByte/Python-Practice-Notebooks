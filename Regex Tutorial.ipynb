{
 "cells": [
  {
   "cell_type": "code",
   "execution_count": 1,
   "id": "631441b0",
   "metadata": {},
   "outputs": [],
   "source": [
    "import re"
   ]
  },
  {
   "cell_type": "code",
   "execution_count": 2,
   "id": "2104ec0d",
   "metadata": {},
   "outputs": [],
   "source": [
    "text= '''We have entered into various arrangements with investors to facilitate the funding and monetization of our solar energy systems and vehicles. In\n",
    "particular, our wholly owned subsidiaries and fund investors have formed and contributed cash and assets into various financing funds and entered into\n",
    "related agreements. We have determined that the funds are variable interest entities (“VIEs”) and we are the primary beneficiary of these VIEs by\n",
    "reference to the power and benefits criterion under ASC 810, Consolidation. We have considered the provisions within the agreements, which grant us\n",
    "the power to manage and make decisions that affect the operation of these VIEs, including determining the solar energy systems and the associated\n",
    "customer contracts to be sold or contributed to these VIEs, redeploying solar energy systems and managing customer receivables. We consider that the\n",
    "rights granted to the fund investors under the agreements are more protective in nature rather than participating.\n",
    "As the primary beneficiary of these VIEs, we consolidate in the financial statements the financial position, results of operations and cash flows of\n",
    "these VIEs, and all intercompany balances and transactions between us and these VIEs are eliminated in the consolidated financial statements. Cash\n",
    "distributions of income and other receipts by a fund, net of agreed upon expenses, estimated expenses, tax benefits and detriments of income and loss\n",
    "and tax credits,1234567890 are allocated to the fund investor and our subsidiary as specified in the agreements.\n",
    "Generally, our subsidiary has the option to acquire the fund investor’s interest in the fund for an amount based on the market value of the fund or\n",
    "the formula specified in the agreements.\n",
    "Upon the sale or liquidation of a fund, distributions would occur in the order and priority specified in the agreements.\n",
    "Pursuant to management services, maintenance and warranty arrangements, we have been contracted to provide services to the funds, such as\n",
    "operations and maintenance support, accounting, lease servicing and performance reporting.(999)-666-1111 In some instances, we have guaranteed payments to the\n",
    "fund investors as specified in the agreements. A fund’s creditors have no recourse to our general credit or to that of other funds. None of the assets of\n",
    "the funds had been pledged as collateral for their obligations.\n",
    "\n",
    "'''"
   ]
  },
  {
   "cell_type": "code",
   "execution_count": 4,
   "id": "3f06f1c2",
   "metadata": {},
   "outputs": [
    {
     "name": "stdout",
     "output_type": "stream",
     "text": [
      "['1234567890', '(999)-666-1111']\n"
     ]
    }
   ],
   "source": [
    "pattern ='\\(\\d{3}\\)-\\d{3}-\\d{4}|\\d{10}'\n",
    "matches =re.findall(pattern, text)\n",
    "print(matches)"
   ]
  },
  {
   "cell_type": "code",
   "execution_count": 5,
   "id": "cfd5deec",
   "metadata": {},
   "outputs": [],
   "source": [
    "textB = '''Indemnifications\n",
    "We are contractually obligated to compensate certain fund investors for any losses that they may suffer in certain limited circumstances resulting\n",
    "from reductions in investment tax credits claimed under U.S. federal laws for the installation of solar power facilities and energy storage systems that\n",
    "are charged from a co-sited solar power facility. We believe that any payments to the fund investors in excess of the amounts already recognized by us\n",
    "for this obligation are not probable or material based on the facts known at the filing date.\n",
    "We are eligible to receive certain state and local incentives that are associated with renewable energy generation. The amount of incentives that\n",
    "can be claimed is based on the projected or actual solar energy system size and/or the amount of solar energy produced. We also currently participate\n",
    "in one state’s incentive program that is based on either the fair market value or the tax basis of solar energy systems placed in service. State and local\n",
    "incentives received are allocated between us and fund investors in accordance with the contractual provisions of each fund. We are not contractually\n",
    "obligated to indemnify any fund investor for any losses they may incur due to a shortfall in the amount of state or local incentives actually received.\n",
    "Note 13 – Variable Interest Entity Arrangements\n",
    "We have entered into various arrangements with investors to facilitate the funding and monetization of our solar energy systems and vehicles. In\n",
    "particular, our wholly owned subsidiaries and fund investors have formed and contributed cash and assets into various financing funds and entered into\n",
    "related agreements. We have determined that the funds are variable interest entities (“VIEs”) and we are the primary beneficiary of these VIEs by\n",
    "reference to the power and benefits criterion under ASC 810, Consolidation. We have considered the provisions within the agreements, which grant us\n",
    "the power to manage and make decisions that affect the operation of these VIEs, including determining the solar energy systems and the associated\n",
    "customer contracts to be sold or contributed to these VIEs, redeploying solar energy systems and managing customer receivables. We consider that the\n",
    "rights granted to the fund investors under the agreements are more protective in nature rather than participating.\n",
    "As the primary beneficiary of these VIEs, we consolidate in the financial statements the financial position, results of operations and cash flows of\n",
    "these VIEs, and all intercompany balances and transactions between us and these VIEs are eliminated in the consolidated financial statements. Cash\n",
    "distributions of income and other receipts by a fund, net of agreed upon expenses, estimated expenses, tax benefits and detriments of income and loss\n",
    "and tax credits, are allocated to the fund investor and our subsidiary as specified in the agreements.\n",
    "Generally, our subsidiary has the option to acquire the fund investor’s interest in the fund for an amount based on the market value of the fund or\n",
    "the formula specified in the agreements.\n",
    "Upon the sale or liquidation of a fund, distributions would occur in the order and priority specified in the agreements.\n",
    "Pursuant to management services, maintenance and warranty arrangements, we have been contracted to provide services to the funds, such as\n",
    "operations and maintenance support, accounting, lease servicing and performance reporting. In some instances, we have guaranteed payments to the\n",
    "fund investors as specified in the agreements. A fund’s creditors have no recourse to our general credit or to that of other funds. None of the assets of\n",
    "the funds had been pledged as collateral for their obligations.\n",
    "'''"
   ]
  },
  {
   "cell_type": "code",
   "execution_count": 16,
   "id": "a38dbde7",
   "metadata": {},
   "outputs": [
    {
     "name": "stdout",
     "output_type": "stream",
     "text": [
      "['Variable Interest Entity Arrangements']\n"
     ]
    }
   ],
   "source": [
    "patternB = 'Note \\d\\d – ([^\\n]*)'\n",
    "matchesB  =re.findall(patternB, textB)\n",
    "print(matchesB)"
   ]
  },
  {
   "cell_type": "code",
   "execution_count": 20,
   "id": "e73ba4eb",
   "metadata": {},
   "outputs": [
    {
     "name": "stdout",
     "output_type": "stream",
     "text": [
      "['2021 Q1', '2020 Q4']\n"
     ]
    }
   ],
   "source": [
    "text = '''\n",
    "The gross cost of operating lease vehicles in FY2021 Q1 was $4.85 billion.\n",
    "In previous quarter i.e. FY2020 Q4 it was $3 billion. \n",
    "'''\n",
    "pattern = 'FY(\\d{4} Q[1-4])'\n",
    "matches  =re.findall(pattern, text,flags=re.IGNORECASE)\n",
    "print(matches)"
   ]
  },
  {
   "cell_type": "code",
   "execution_count": 23,
   "id": "2ee4f298",
   "metadata": {},
   "outputs": [
    {
     "data": {
      "text/plain": [
       "['4.85', '3']"
      ]
     },
     "execution_count": 23,
     "metadata": {},
     "output_type": "execute_result"
    }
   ],
   "source": [
    "text = '''\n",
    "Tesla's gross cost of operating lease vehicles in FY2021 Q1 was $4.85 billion. \n",
    "In previous quarter i.e. FY2020 Q4 it was $3 billion.\n",
    "'''\n",
    "\n",
    "pattern = '\\$([0-9\\.]+)'\n",
    "matches = re.findall(pattern, text)\n",
    "matches"
   ]
  },
  {
   "cell_type": "code",
   "execution_count": 26,
   "id": "e5c3cb53",
   "metadata": {},
   "outputs": [
    {
     "data": {
      "text/plain": [
       "[('2021 Q1', '4.85'), ('2020 Q4', '3')]"
      ]
     },
     "execution_count": 26,
     "metadata": {},
     "output_type": "execute_result"
    }
   ],
   "source": [
    "text = '''\n",
    "Tesla's gross cost of operating lease vehicles in FY2021 Q1 was $4.85 billion. \n",
    "In previous quarter i.e. FY2020 Q4 it was $3 billion.\n",
    "'''\n",
    "\n",
    "pattern = 'FY(\\d{4} Q[1-4])[^\\$]+\\$([0-9\\.]+)'\n",
    "matches = re.findall(pattern, text)\n",
    "matches"
   ]
  },
  {
   "cell_type": "code",
   "execution_count": 28,
   "id": "d4bf23b0",
   "metadata": {},
   "outputs": [
    {
     "data": {
      "text/plain": [
       "<re.Match object; span=(51, 84), match='FY2021 Q1 ljh lsj a 123 was $4.85'>"
      ]
     },
     "execution_count": 28,
     "metadata": {},
     "output_type": "execute_result"
    }
   ],
   "source": [
    "text = '''\n",
    "Tesla's gross cost of operating lease vehicles in FY2021 Q1 ljh lsj a 123 was $4.85 billion. Same number for FY2020 Q4 was $8 billion\n",
    "'''\n",
    "pattern = 'FY(\\d{4} Q[1-4])[^\\$]+\\$([0-9\\.]+)'\n",
    "\n",
    "matches = re.search(pattern, text)\n",
    "matches\n"
   ]
  },
  {
   "cell_type": "code",
   "execution_count": 29,
   "id": "11e3eded",
   "metadata": {},
   "outputs": [
    {
     "data": {
      "text/plain": [
       "('2021 Q1', '4.85')"
      ]
     },
     "execution_count": 29,
     "metadata": {},
     "output_type": "execute_result"
    }
   ],
   "source": [
    "matches.groups()"
   ]
  },
  {
   "cell_type": "code",
   "execution_count": null,
   "id": "a340aa3e",
   "metadata": {},
   "outputs": [],
   "source": []
  }
 ],
 "metadata": {
  "kernelspec": {
   "display_name": "Python 3 (ipykernel)",
   "language": "python",
   "name": "python3"
  },
  "language_info": {
   "codemirror_mode": {
    "name": "ipython",
    "version": 3
   },
   "file_extension": ".py",
   "mimetype": "text/x-python",
   "name": "python",
   "nbconvert_exporter": "python",
   "pygments_lexer": "ipython3",
   "version": "3.11.5"
  }
 },
 "nbformat": 4,
 "nbformat_minor": 5
}
